{
 "cells": [
  {
   "cell_type": "markdown",
   "id": "e4468eed",
   "metadata": {},
   "source": [
    "The following is some introduction to RKHS regression in Python, available from https://github.com/PCAubin/RKHS/blob/master/IntroductionRKHS-121018.ipynb."
   ]
  },
  {
   "cell_type": "code",
   "execution_count": 81,
   "id": "3ef71ca6",
   "metadata": {},
   "outputs": [
    {
     "name": "stdout",
     "output_type": "stream",
     "text": [
      "0.6079550736499867\n"
     ]
    },
    {
     "data": {
      "text/plain": [
       "Text(0.5, 1.0, 'Effect of regularization on KRR')"
      ]
     },
     "execution_count": 81,
     "metadata": {},
     "output_type": "execute_result"
    },
    {
     "data": {
      "image/png": "[encoded data removed]",
      "text/plain": [
       "<Figure size 600x400 with 1 Axes>"
      ]
     },
     "metadata": {
      "needs_background": "light"
     },
     "output_type": "display_data"
    }
   ],
   "source": [
    "import numpy as np\n",
    "import matplotlib.pyplot as plt\n",
    "from matplotlib.widgets import Slider, Button\n",
    "plt.rcParams['figure.dpi'] = 100\n",
    "\n",
    "fig, ax = plt.subplots()\n",
    "plt.subplots_adjust(left=0.25, bottom=0.25)\n",
    "\n",
    "# number of points\n",
    "number_pts=200\n",
    "\n",
    "# sigma of the Gaussian kernel\n",
    "sigma_kernel=0.1\n",
    "t = np.arange(0.0, 1.0, 1./number_pts)\n",
    "\n",
    "mu, sigma_noise = 0, 0.5 # mean and standard deviation\n",
    "noise = np.random.normal(mu, sigma_noise, t.size)\n",
    "\n",
    "a0 = 5\n",
    "f0 = 2\n",
    "lmbda0=1E-2\n",
    "s = a0*np.sin(2*np.pi*f0*t)+noise\n",
    "\n",
    "# Construct the Gaussian kernels\n",
    "from scipy.spatial.distance import pdist, squareform\n",
    "\n",
    "## pdist: pairwise distance between points, return a vector\n",
    "## squareform: convert a vector-form distances to a square-form distance matrix\n",
    "pairwise_sq_dists = squareform(pdist(np.reshape(t,[-1,1]), 'sqeuclidean'))\n",
    "K = np.exp(-pairwise_sq_dists / sigma_kernel**2)\n",
    "\n",
    "sapprox = np.dot(K,np.linalg.solve(K+lmbda0*t.size*np.eye(t.size), s))\n",
    "print(np.sqrt(np.mean((sapprox - s)**2)))\n",
    "\n",
    "\n",
    "l1, = plt.plot(t, sapprox,'r-')\n",
    "l, = plt.plot(t, s,'ko')\n",
    "plt.axis([0, 1, -10, 10])\n",
    "\n",
    "plt.title('Effect of regularization on KRR')\n"
   ]
  },
  {
   "cell_type": "code",
   "execution_count": 129,
   "id": "042acebb",
   "metadata": {},
   "outputs": [],
   "source": [
    "import numpy as np\n",
    "from scipy.spatial.distance import pdist, cdist, squareform\n",
    "\n",
    "N_train = N_test = 1000\n",
    "d = 2\n",
    "\n",
    "X = np.random.uniform(size=(N_train + N_test,d))\n",
    "X_train = X[:N_train,:]\n",
    "X_test = X[N_train:,]\n",
    "Y = np.zeros(N_train+N_test) \n",
    "\n",
    "\n",
    "a0 = 5\n",
    "b0 = 2\n",
    "mu, sigma_noise = 0, 0.5 # mean and standard deviation\n",
    "noise = np.random.normal(mu, sigma_noise, N_train + N_test)\n",
    "\n",
    "# y = a0 * sin(2*pi*b0*x1) + epsilon\n",
    "Y = a0*np.sin(2*np.pi*b0*X[:,0])+noise\n",
    "Y_train = Y[:N_train]\n",
    "Y_test = Y[N_train:]"
   ]
  },
  {
   "cell_type": "code",
   "execution_count": 130,
   "id": "9552aa95",
   "metadata": {},
   "outputs": [],
   "source": [
    "### MCAR ((1 − p)-homogeneous missingness) ###\n",
    "p_homo = 0.7\n",
    "O_train = np.random.choice(2,size=(N_train,d),p=(1-p_homo,p_homo))\n"
   ]
  },
  {
   "cell_type": "code",
   "execution_count": 133,
   "id": "941b5660",
   "metadata": {},
   "outputs": [
    {
     "name": "stdout",
     "output_type": "stream",
     "text": [
      "RMSE of fitted values is 0.34888047180461546\n",
      "RMSE of test data is 0.6471002441512756\n"
     ]
    }
   ],
   "source": [
    "# Complete Case\n",
    "complete_case_idx = np.all(O_train == 1, axis=1)\n",
    "X_train_complete = X_train[complete_case_idx]\n",
    "Y_train_complete = Y_train[complete_case_idx]\n",
    "N_train_complete = X_train_complete.shape[0]\n",
    "\n",
    "\n",
    "sigma_kernel = 0.1\n",
    "lmbda0 = 1E-2\n",
    "\n",
    "pairwise_sq_dists = squareform(pdist(X_train_complete, 'sqeuclidean'))\n",
    "K = np.exp(-pairwise_sq_dists / sigma_kernel**2)\n",
    "\n",
    "alpha_hat = np.linalg.solve(K+lmbda0*np.eye(N_train_complete), Y_train_complete)\n",
    "\n",
    "Y_train_complete_approx = np.dot(K, alpha_hat)\n",
    "\n",
    "## RMSE of the fitted values in the complete case\n",
    "print('RMSE of fitted values is', np.sqrt(np.mean((Y_train_complete_approx - Y_train_complete)**2)))\n",
    "\n",
    "\n",
    "### Prediction ###\n",
    "Y_test_complete_pred = np.zeros(N_test)\n",
    "\n",
    "pairwise_sq_dists_pred = cdist(X_test, X_train_complete, 'sqeuclidean')\n",
    "K_new = np.exp(-pairwise_sq_dists_pred / sigma_kernel**2)\n",
    "\n",
    "Y_test_complete_pred = np.dot(K_new, alpha_hat)\n",
    "    \n",
    "print('RMSE of test data is', np.sqrt(np.mean((Y_test_complete_pred - Y_test)**2)))"
   ]
  },
  {
   "cell_type": "code",
   "execution_count": null,
   "id": "55c70133",
   "metadata": {},
   "outputs": [],
   "source": [
    "# Mean Imputation"
   ]
  },
  {
   "cell_type": "code",
   "execution_count": null,
   "id": "810557d5",
   "metadata": {},
   "outputs": [],
   "source": [
    "# Directly using available cases"
   ]
  }
 ],
 "metadata": {
  "kernelspec": {
   "display_name": "Python 3",
   "language": "python",
   "name": "python3"
  },
  "language_info": {
   "codemirror_mode": {
    "name": "ipython",
    "version": 3
   },
   "file_extension": ".py",
   "mimetype": "text/x-python",
   "name": "python",
   "nbconvert_exporter": "python",
   "pygments_lexer": "ipython3",
   "version": "3.8.8"
  }
 },
 "nbformat": 4,
 "nbformat_minor": 5
}
