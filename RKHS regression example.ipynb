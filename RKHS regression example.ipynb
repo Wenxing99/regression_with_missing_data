{
 "cells": [
  {
   "cell_type": "markdown",
   "id": "e4468eed",
   "metadata": {},
   "source": [
    "The following is some introduction to RKHS regression in Python, available from https://github.com/PCAubin/RKHS/blob/master/IntroductionRKHS-121018.ipynb."
   ]
  },
  {
   "cell_type": "code",
   "execution_count": 103,
   "id": "4cd3065d-f710-4160-8540-4c471f5fe658",
   "metadata": {},
   "outputs": [
    {
     "name": "stdout",
     "output_type": "stream",
     "text": [
      "Collecting scikit-learn==0.24.2\n",
      "  Downloading scikit-learn-0.24.2.tar.gz (7.5 MB)\n",
      "\u001b[2K     \u001b[90m━━━━━━━━━━━━━━━━━━━━━━━━━━━━━━━━━━━━━━━━\u001b[0m \u001b[32m7.5/7.5 MB\u001b[0m \u001b[31m15.7 MB/s\u001b[0m eta \u001b[36m0:00:00\u001b[0ma \u001b[36m0:00:01\u001b[0m\n",
      "  Installing build dependencies .done\n",
      "\u001b[?25h  Getting requirements to build wheel ... \u001b[?2done\n",
      "\u001b[?25h  Preparing metadata (pyproject.toml) ... \u001b[?25lerror\n",
      "  \u001b[1;31merror\u001b[0m: \u001b[1msubprocess-exited-with-error\u001b[0m\n",
      "  \n",
      "  \u001b[31m×\u001b[0m \u001b[32mPreparing metadata \u001b[0m\u001b[1;32m(\u001b[0m\u001b[32mpyproject.toml\u001b[0m\u001b[1;32m)\u001b[0m did not run successfully.\n",
      "  \u001b[31m│\u001b[0m exit code: \u001b[1;36m1\u001b[0m\n",
      "  \u001b[31m╰─>\u001b[0m \u001b[31m[20 lines of output]\u001b[0m\n",
      "  \u001b[31m   \u001b[0m <string>:17: DeprecationWarning: pkg_resources is deprecated as an API. See https://setuptools.pypa.io/en/latest/pkg_resources.html\n",
      "  \u001b[31m   \u001b[0m Partial import of sklearn during the build process.\n",
      "  \u001b[31m   \u001b[0m Traceback (most recent call last):\n",
      "  \u001b[31m   \u001b[0m   File \"/Users/wenxing/miniconda3/envs/reg_missing/lib/python3.12/site-packages/pip/_vendor/pyproject_hooks/_in_process/_in_process.py\", line 353, in <module>\n",
      "  \u001b[31m   \u001b[0m     main()\n",
      "  \u001b[31m   \u001b[0m   File \"/Users/wenxing/miniconda3/envs/reg_missing/lib/python3.12/site-packages/pip/_vendor/pyproject_hooks/_in_process/_in_process.py\", line 335, in main\n",
      "  \u001b[31m   \u001b[0m     json_out['return_val'] = hook(**hook_input['kwargs'])\n",
      "  \u001b[31m   \u001b[0m                              ^^^^^^^^^^^^^^^^^^^^^^^^^^^^\n",
      "  \u001b[31m   \u001b[0m   File \"/Users/wenxing/miniconda3/envs/reg_missing/lib/python3.12/site-packages/pip/_vendor/pyproject_hooks/_in_process/_in_process.py\", line 149, in prepare_metadata_for_build_wheel\n",
      "  \u001b[31m   \u001b[0m     return hook(metadata_directory, config_settings)\n",
      "  \u001b[31m   \u001b[0m            ^^^^^^^^^^^^^^^^^^^^^^^^^^^^^^^^^^^^^^^^^\n",
      "  \u001b[31m   \u001b[0m   File \"/private/var/folders/m_/t0002n3n31jbzj617qsswsqc0000gn/T/pip-build-env-4ds6tvod/overlay/lib/python3.12/site-packages/setuptools/build_meta.py\", line 377, in prepare_metadata_for_build_wheel\n",
      "  \u001b[31m   \u001b[0m     self.run_setup()\n",
      "  \u001b[31m   \u001b[0m   File \"/private/var/folders/m_/t0002n3n31jbzj617qsswsqc0000gn/T/pip-build-env-4ds6tvod/overlay/lib/python3.12/site-packages/setuptools/build_meta.py\", line 522, in run_setup\n",
      "  \u001b[31m   \u001b[0m     super().run_setup(setup_script=setup_script)\n",
      "  \u001b[31m   \u001b[0m   File \"/private/var/folders/m_/t0002n3n31jbzj617qsswsqc0000gn/T/pip-build-env-4ds6tvod/overlay/lib/python3.12/site-packages/setuptools/build_meta.py\", line 320, in run_setup\n",
      "  \u001b[31m   \u001b[0m     exec(code, locals())\n",
      "  \u001b[31m   \u001b[0m   File \"<string>\", line 301, in <module>\n",
      "  \u001b[31m   \u001b[0m   File \"<string>\", line 293, in setup_package\n",
      "  \u001b[31m   \u001b[0m ModuleNotFoundError: No module named 'numpy.distutils'\n",
      "  \u001b[31m   \u001b[0m \u001b[31m[end of output]\u001b[0m\n",
      "  \n",
      "  \u001b[1;35mnote\u001b[0m: This error originates from a subprocess, and is likely not a problem with pip.\n",
      "\u001b[1;31merror\u001b[0m: \u001b[1mmetadata-generation-failed\u001b[0m\n",
      "\n",
      "\u001b[31m×\u001b[0m Encountered error while generating package metadata.\n",
      "\u001b[31m╰─>\u001b[0m See above for output.\n",
      "\n",
      "\u001b[1;35mnote\u001b[0m: This is an issue with the package mentioned above, not pip.\n",
      "\u001b[1;36mhint\u001b[0m: See above for details.\n",
      "\u001b[?25hNote: you may need to restart the kernel to use updated packages.\n"
     ]
    }
   ],
   "source": [
    "pip install scikit-learn==0.24.2"
   ]
  },
  {
   "cell_type": "code",
   "execution_count": 1,
   "id": "3ef71ca6",
   "metadata": {},
   "outputs": [
    {
     "name": "stdout",
     "output_type": "stream",
     "text": [
      "0.40278680997668315\n"
     ]
    },
    {
     "data": {
      "text/plain": [
       "Text(0.5, 1.0, 'Effect of regularization on KRR')"
      ]
     },
     "execution_count": 1,
     "metadata": {},
     "output_type": "execute_result"
    },
    {
     "data": {
      "image/png": "[encoded data removed]",
      "text/plain": [
       "<Figure size 640x480 with 1 Axes>"
      ]
     },
     "metadata": {},
     "output_type": "display_data"
    }
   ],
   "source": [
    "import numpy as np\n",
    "import matplotlib.pyplot as plt\n",
    "from matplotlib.widgets import Slider, Button\n",
    "plt.rcParams['figure.dpi'] = 100\n",
    "\n",
    "fig, ax = plt.subplots()\n",
    "plt.subplots_adjust(left=0.25, bottom=0.25)\n",
    "\n",
    "# number of points\n",
    "number_pts=200\n",
    "\n",
    "# sigma of the Gaussian kernel\n",
    "sigma_kernel=0.1\n",
    "t = np.arange(0.0, 1.0, 1./number_pts)\n",
    "\n",
    "mu, sigma_noise = 0, 0.3 # mean and standard deviation\n",
    "noise = np.random.normal(mu, sigma_noise, t.size)\n",
    "\n",
    "a0 = 5\n",
    "f0 = 2\n",
    "lmbda0=1E-2\n",
    "s = a0*np.sin(2*np.pi*f0*t)+noise\n",
    "\n",
    "# Construct the Gaussian kernels\n",
    "from scipy.spatial.distance import pdist, squareform\n",
    "\n",
    "## pdist: pairwise distance between points, return a vector\n",
    "## squareform: convert a vector-form distances to a square-form distance matrix\n",
    "pairwise_sq_dists = squareform(pdist(np.reshape(t,[-1,1]), 'sqeuclidean'))\n",
    "K = np.exp(-pairwise_sq_dists / sigma_kernel**2)\n",
    "\n",
    "sapprox = np.dot(K,np.linalg.solve(K+lmbda0*t.size*np.eye(t.size), s))\n",
    "print(np.sqrt(np.mean((sapprox - s)**2)))\n",
    "\n",
    "\n",
    "l1, = plt.plot(t, sapprox,'r-')\n",
    "l, = plt.plot(t, s,'ko')\n",
    "plt.axis([0, 1, -10, 10])\n",
    "\n",
    "plt.title('Effect of regularization on KRR')\n"
   ]
  },
  {
   "cell_type": "code",
   "execution_count": 28,
   "id": "042acebb",
   "metadata": {},
   "outputs": [],
   "source": [
    "import numpy as np\n",
    "from scipy.spatial.distance import pdist, cdist, squareform\n",
    "import matplotlib.pyplot as plt\n",
    "\n",
    "N_train = 1000\n",
    "N_test = 300\n",
    "d = 5\n",
    "\n",
    "X = np.random.uniform(0 ,2, size=(N_train + N_test,d))\n",
    "X_train = X[:N_train,:]\n",
    "X_test = X[N_train:,]\n",
    "Y = np.zeros(N_train+N_test) \n",
    "\n",
    "\n",
    "a0 = 5\n",
    "b0 = 1\n",
    "mu, sigma_noise = 0, 0.3 # mean and standard deviation\n",
    "noise = np.random.normal(mu, sigma_noise, N_train + N_test)\n",
    "\n",
    "# y = a0 * sin(2*pi*b0*x1) + epsilon\n",
    "Y = a0*np.sin(2*np.pi*b0*X[:,0])+noise\n",
    "Y_train = Y[:N_train]\n",
    "Y_test = Y[N_train:]"
   ]
  },
  {
   "cell_type": "code",
   "execution_count": 2,
   "id": "dadaee74",
   "metadata": {},
   "outputs": [],
   "source": [
    "### MCAR: ((1 − p)-homogeneous missingness) ###\n",
    "p_homo = 0.7\n",
    "O_train = np.random.choice(2,size=(N_train,d),p=(1-p_homo,p_homo))"
   ]
  },
  {
   "cell_type": "code",
   "execution_count": 19,
   "id": "ddcd3827",
   "metadata": {},
   "outputs": [],
   "source": [
    "### MCAR: variable-specific missingness ###\n",
    "p_vars = [0.8, 0.6, 0.9, 0.7, 0.5]  # Observation probabilities for each variable\n",
    "O_train = np.zeros((N_train, d))  # Initialize the missingness mask\n",
    "\n",
    "for j in range(d):  # Iterate over variables (columns)\n",
    "    O_train[:, j] = np.random.choice(2, size=N_train, p=[1-p_vars[j], p_vars[j]])"
   ]
  },
  {
   "cell_type": "code",
   "execution_count": 36,
   "id": "ce091e4a",
   "metadata": {},
   "outputs": [],
   "source": [
    "### MNAR: missingness depending on the same variable ###\n",
    "O_train = np.ones((N_train, d))\n",
    "for i in range(N_train):\n",
    "    for j in range(d):\n",
    "        if X_train[i, j] < 1.0:  # Example condition\n",
    "            O_train[i, j] = np.random.choice(2, p=(0.4, 0.6))\n",
    "        else:\n",
    "            O_train[i, j] = np.random.choice(2, p=(0.6, 0.4))"
   ]
  },
  {
   "cell_type": "code",
   "execution_count": 30,
   "id": "941b5660",
   "metadata": {},
   "outputs": [
    {
     "name": "stdout",
     "output_type": "stream",
     "text": [
      "RMSE of fitted values is 0.04292005129114459\n",
      "RMSE of test data is 3.3622827546409524\n"
     ]
    },
    {
     "data": {
      "text/plain": [
       "[<matplotlib.lines.Line2D at 0x7fd304546eb0>]"
      ]
     },
     "execution_count": 30,
     "metadata": {},
     "output_type": "execute_result"
    },
    {
     "data": {
      "image/png": "[encoded data removed]",
      "text/plain": [
       "<Figure size 432x288 with 1 Axes>"
      ]
     },
     "metadata": {
      "needs_background": "light"
     },
     "output_type": "display_data"
    }
   ],
   "source": [
    "# Complete Case\n",
    "complete_case_idx = np.all(O_train == 1, axis=1)\n",
    "X_train_complete = X_train[complete_case_idx]\n",
    "Y_train_complete = Y_train[complete_case_idx]\n",
    "N_train_complete = X_train_complete.shape[0]\n",
    "\n",
    "\n",
    "sigma_kernel = 0.5\n",
    "lmbda0 = 1e-2\n",
    "\n",
    "pairwise_sq_dists = squareform(pdist(X_train_complete, 'sqeuclidean'))\n",
    "K = np.exp(-pairwise_sq_dists / sigma_kernel**2)\n",
    "alpha_hat = np.linalg.solve(K+lmbda0*\n",
    "                            np.eye(N_train_complete), Y_train_complete)\n",
    "\n",
    "Y_train_complete_approx = np.dot(K, alpha_hat)\n",
    "\n",
    "## RMSE of the fitted values in the complete case\n",
    "print('RMSE of fitted values is', np.sqrt(np.mean((Y_train_complete_approx - Y_train_complete)**2)))\n",
    "\n",
    "\n",
    "### Prediction ###\n",
    "pairwise_sq_dists_pred = cdist(X_test, X_train_complete, 'sqeuclidean')\n",
    "K_new = np.exp(-pairwise_sq_dists_pred / sigma_kernel**2)\n",
    "\n",
    "Y_test_complete_pred = np.dot(K_new, alpha_hat)\n",
    "    \n",
    "print('RMSE of test data is', np.sqrt(np.mean((Y_test_complete_pred - Y_test)**2)))\n",
    "plt.plot(X_test[:,0], Y_test_complete_pred, 'bo')"
   ]
  },
  {
   "cell_type": "code",
   "execution_count": 31,
   "id": "ae4aabfe",
   "metadata": {},
   "outputs": [
    {
     "name": "stdout",
     "output_type": "stream",
     "text": [
      "RMSE of fitted values is 1.8786078690472576\n",
      "RMSE of test data is 3.621936800245781\n"
     ]
    },
    {
     "data": {
      "text/plain": [
       "[<matplotlib.lines.Line2D at 0x7fd3044c19a0>]"
      ]
     },
     "execution_count": 31,
     "metadata": {},
     "output_type": "execute_result"
    },
    {
     "data": {
      "image/png": "[encoded data removed]",
      "text/plain": [
       "<Figure size 432x288 with 1 Axes>"
      ]
     },
     "metadata": {
      "needs_background": "light"
     },
     "output_type": "display_data"
    }
   ],
   "source": [
    "# Mean Imputation\n",
    "def mean_impute(X_train, O_train):\n",
    "    N = O_train.shape[0]\n",
    "    d = O_train.shape[1]\n",
    "    means = np.sum(np.multiply(X_train, O_train), axis=0) / np.sum(O_train, axis = 0)\n",
    "    X_impute = X_train\n",
    "    \n",
    "    for j in range(d):\n",
    "        for i in range(N):\n",
    "            if O_train[i,j] == 0:\n",
    "                X_impute[i,j] = means[j]\n",
    "    \n",
    "    return X_impute\n",
    "\n",
    "X_train_mi = mean_impute(X_train, O_train)\n",
    "\n",
    "sigma_kernel = 0.5\n",
    "lmbda0 = 1e-2\n",
    "\n",
    "pairwise_sq_dists = squareform(pdist(X_train_mi, 'sqeuclidean'))\n",
    "K = np.exp(-pairwise_sq_dists / sigma_kernel**2)\n",
    "alpha_hat = np.linalg.solve(K+lmbda0*np.eye(N_train), Y_train)\n",
    "\n",
    "Y_train_mi_approx = np.dot(K, alpha_hat)\n",
    "## RMSE of the fitted values in the mean imputation case\n",
    "print('RMSE of fitted values is', np.sqrt(np.mean((Y_train_mi_approx - Y_train)**2)))\n",
    "\n",
    "\n",
    "### Prediction ###\n",
    "pairwise_sq_dists_pred = cdist(X_test, X_train_mi, 'sqeuclidean')\n",
    "K_new = np.exp(-pairwise_sq_dists_pred / sigma_kernel**2)\n",
    "\n",
    "Y_test_mi_pred = np.dot(K_new, alpha_hat)\n",
    "    \n",
    "print('RMSE of test data is', np.sqrt(np.mean((Y_test_mi_pred - Y_test)**2)))\n",
    "plt.plot(X_test[:,0], Y_test_mi_pred, 'bo')"
   ]
  },
  {
   "cell_type": "code",
   "execution_count": 32,
   "id": "6e23f707-5387-4ecc-851d-94b08a08fb21",
   "metadata": {},
   "outputs": [
    {
     "name": "stdout",
     "output_type": "stream",
     "text": [
      "RMSE of fitted values (KNN imputation): 1.0148317780853866\n",
      "RMSE of test data (KNN imputation): 4.102782560243984\n"
     ]
    },
    {
     "data": {
      "text/plain": [
       "[<matplotlib.lines.Line2D at 0x7fd306a84760>]"
      ]
     },
     "execution_count": 32,
     "metadata": {},
     "output_type": "execute_result"
    },
    {
     "data": {
      "image/png": "[encoded data removed]",
      "text/plain": [
       "<Figure size 432x288 with 1 Axes>"
      ]
     },
     "metadata": {
      "needs_background": "light"
     },
     "output_type": "display_data"
    }
   ],
   "source": [
    "import numpy as np\n",
    "from sklearn.impute import KNNImputer\n",
    "from scipy.spatial.distance import pdist, squareform, cdist\n",
    "import matplotlib.pyplot as plt\n",
    "\n",
    "# Assume we already have:\n",
    "# X_train, Y_train, X_test, Y_test, O_train defined\n",
    "# O_train is a binary mask indicating observed (1) or missing (0) entries in X_train.\n",
    "\n",
    "# --- KNN Imputation ---\n",
    "X_train_knn = X_train.copy()\n",
    "X_train_knn[O_train == 0] = np.nan  # Replace missing entries with NaN for the imputer\n",
    "knn_imputer = KNNImputer(n_neighbors=3)\n",
    "X_train_knn = knn_imputer.fit_transform(X_train_knn)\n",
    "\n",
    "# Kernel regression after KNN imputation\n",
    "sigma_kernel = 0.5\n",
    "lmbda0 = 1e-2\n",
    "N_train = X_train.shape[0]\n",
    "\n",
    "pairwise_sq_dists_knn = squareform(pdist(X_train_knn, 'sqeuclidean'))\n",
    "K_knn = np.exp(-pairwise_sq_dists_knn / sigma_kernel**2)\n",
    "alpha_hat_knn = np.linalg.solve(K_knn + lmbda0*np.eye(N_train), Y_train)\n",
    "\n",
    "Y_train_knn_approx = np.dot(K_knn, alpha_hat_knn)\n",
    "print('RMSE of fitted values (KNN imputation):', np.sqrt(np.mean((Y_train_knn_approx - Y_train)**2)))\n",
    "\n",
    "pairwise_sq_dists_pred_knn = cdist(X_test, X_train_knn, 'sqeuclidean')\n",
    "K_new_knn = np.exp(-pairwise_sq_dists_pred_knn / sigma_kernel**2)\n",
    "Y_test_knn_pred = np.dot(K_new_knn, alpha_hat_knn)\n",
    "print('RMSE of test data (KNN imputation):', np.sqrt(np.mean((Y_test_knn_pred - Y_test)**2)))\n",
    "\n",
    "plt.figure()\n",
    "plt.title(\"KNN Imputation Predictions\")\n",
    "plt.plot(X_test[:,0], Y_test_knn_pred, 'bo')"
   ]
  },
  {
   "cell_type": "code",
   "execution_count": 33,
   "id": "c8a454e3",
   "metadata": {},
   "outputs": [
    {
     "name": "stdout",
     "output_type": "stream",
     "text": [
      "RMSE of fitted values is 3.446915766672114\n",
      "RMSE of test data is 3.3622827546409524\n"
     ]
    },
    {
     "data": {
      "text/plain": [
       "[<matplotlib.lines.Line2D at 0x7fd30741a1c0>]"
      ]
     },
     "execution_count": 33,
     "metadata": {},
     "output_type": "execute_result"
    },
    {
     "data": {
      "image/png": "[encoded data removed]",
      "text/plain": [
       "<Figure size 432x288 with 1 Axes>"
      ]
     },
     "metadata": {
      "needs_background": "light"
     },
     "output_type": "display_data"
    }
   ],
   "source": [
    "# Directly using available cases first model, matching case\n",
    "import time\n",
    "sigma_kernel = 0.5\n",
    "lmbda0 = 1e-2\n",
    "\n",
    "X_train_O = np.multiply(X_train, O_train)\n",
    "\n",
    "# pairwise_sq_dists = np.zeros((N_train, N_train))\n",
    "K = np.zeros((N_train, N_train))\n",
    "for i in range(N_train):\n",
    "    for j in range(N_train):\n",
    "        if np.all(O_train[i] == O_train[j]) and not(np.all(O_train[i]==0)) and not(np.all(O_train[j])==0):\n",
    "            K[i,j] = np.exp(-np.linalg.norm(X_train_O[i] - X_train_O[j])**2 / sigma_kernel**2)\n",
    "#             pairwise_sq_dists[i,j] = np.linalg.norm(X_train_O[i] - X_train_O[j])**2\n",
    "\n",
    "# Vectorise above:\n",
    "# Identify rows with identical masks in O_train\n",
    "# mask = (O_train[:, None, :] == O_train).all(axis=2)\n",
    "\n",
    "# Compute pairwise squared distances\n",
    "# pairwise_sq_dists = np.sum((X_train_O[:, None, :] - X_train_O) ** 2, axis=2)\n",
    "\n",
    "# Apply the mask\n",
    "# pairwise_sq_dists *= mask\n",
    "\n",
    "# K = np.exp(-pairwise_sq_dists / sigma_kernel**2)\n",
    "alpha_hat = np.linalg.solve(K+lmbda0*np.eye(N_train), Y_train)\n",
    "\n",
    "Y_train_O_approx = np.dot(K, alpha_hat)\n",
    "# RMSE of the fitted values in the first model\n",
    "print('RMSE of fitted values is', np.sqrt(np.mean((Y_train_O_approx - Y_train)**2)))\n",
    "\n",
    "### Prediction ###\n",
    "#pairwise_sq_dists_pred = cdist(X_test, X_train_mi, 'sqeuclidean')\n",
    "#K_new = np.exp(-pairwise_sq_dists_pred / sigma_kernel**2)\n",
    "\n",
    "O_test = np.ones((N_test,d))\n",
    "# pairwise_sq_dists_pred = np.zeros((N_test, N_train))\n",
    "K_new = np.zeros((N_test, N_train))\n",
    "for i in range(N_test):\n",
    "    for j in range(N_train):\n",
    "        if np.all(O_test[i] == O_train[j]) and not(np.all(O_test[i]==0)) and not(np.all(O_train[j])==0):\n",
    "            K_new[i,j] = np.exp(-np.linalg.norm(X_test[i] - X_train_O[j])**2 / sigma_kernel**2)\n",
    "#             pairwise_sq_dists_pred[i,j] = np.linalg.norm(X_test[i] - X_train_O[j])**2\n",
    "\n",
    "# Vectorise above:\n",
    "# Check for matching rows in O_test and O_train\n",
    "# mask_pred = (O_test[:, None, :] == O_train).all(axis=2)\n",
    "\n",
    "# Compute pairwise squared distances between X_test and X_train_O\n",
    "# pairwise_sq_dists_pred = np.sum((X_test[:, None, :] - X_train_O)**2, axis=2)\n",
    "\n",
    "# Apply the mask\n",
    "# pairwise_sq_dists_pred *= mask_pred\n",
    "\n",
    "# K_new = np.exp(-pairwise_sq_dists_pred / sigma_kernel**2)\n",
    "Y_test_O_pred = np.dot(K_new, alpha_hat)\n",
    "print('RMSE of test data is', np.sqrt(np.mean((Y_test_O_pred - Y_test)**2)))\n",
    "plt.plot(X_test[:,0], Y_test_O_pred, 'bo')"
   ]
  },
  {
   "cell_type": "code",
   "execution_count": 34,
   "id": "bb86507f",
   "metadata": {},
   "outputs": [
    {
     "name": "stdout",
     "output_type": "stream",
     "text": [
      "RMSE of fitted values is 1.6240509644415213\n",
      "RMSE of test data is 3.266380000491716\n"
     ]
    },
    {
     "data": {
      "text/plain": [
       "[<matplotlib.lines.Line2D at 0x7fd3074ed6d0>]"
      ]
     },
     "execution_count": 34,
     "metadata": {},
     "output_type": "execute_result"
    },
    {
     "data": {
      "image/png": "[encoded data removed]",
      "text/plain": [
       "<Figure size 432x288 with 1 Axes>"
      ]
     },
     "metadata": {
      "needs_background": "light"
     },
     "output_type": "display_data"
    }
   ],
   "source": [
    "# Directly using available cases, second model\n",
    "import time\n",
    "sigma_kernel = 0.5\n",
    "lmbda0 = 1e-2\n",
    "\n",
    "X_train_O = np.multiply(X_train, O_train)\n",
    "pairwise_sq_dists = np.zeros((N_train, N_train))\n",
    "K = np.zeros((N_train, N_train))\n",
    "\n",
    "for i in range(N_train):\n",
    "    for j in range(N_train):\n",
    "        for dd in range(d):\n",
    "            if O_train[i,dd] == 1 or O_train[j,dd] == 1:                \n",
    "                pairwise_sq_dists[i,j] += (X_train_O[i,dd] - X_train_O[j,dd])**2\n",
    "                K[i,j] = np.exp(- pairwise_sq_dists[i,j] / sigma_kernel**2)\n",
    "\n",
    "# K = np.exp(-pairwise_sq_dists / sigma_kernel**2)\n",
    "alpha_hat = np.linalg.solve(K+lmbda0*np.eye(N_train), Y_train)\n",
    "\n",
    "Y_train_O_approx = np.dot(K, alpha_hat)\n",
    "# RMSE of the fitted values in the first model\n",
    "print('RMSE of fitted values is', np.sqrt(np.mean((Y_train_O_approx - Y_train)**2)))\n",
    "\n",
    "### Prediction\n",
    "O_test = np.ones((N_test,d))\n",
    "pairwise_sq_dists_pred = np.zeros((N_test, N_train))\n",
    "K_new = np.zeros((N_test, N_train))\n",
    "\n",
    "for i in range(N_test):\n",
    "    for j in range(N_train):\n",
    "        for dd in range(d):\n",
    "            if O_test[i,dd] == 1 or O_train[j,dd] == 1:               \n",
    "                pairwise_sq_dists_pred[i,j] += (X_test[i,dd] - X_train_O[j,dd])**2\n",
    "                K_new[i,j] = np.exp(- pairwise_sq_dists_pred[i,j] / sigma_kernel**2)\n",
    "\n",
    "# K_new = np.exp(-pairwise_sq_dists_pred / sigma_kernel**2)\n",
    "Y_test_O_pred = np.dot(K_new, alpha_hat)\n",
    "print('RMSE of test data is', np.sqrt(np.mean((Y_test_O_pred - Y_test)**2)))\n",
    "plt.plot(X_test[:,0], Y_test_O_pred, 'bo')"
   ]
  },
  {
   "cell_type": "code",
   "execution_count": 10,
   "id": "12ccb9e2-0f2c-4e27-a75b-f0c22e3711a9",
   "metadata": {},
   "outputs": [],
   "source": [
    "import xgboost as xgb\n",
    "from sklearn.metrics import mean_squared_error"
   ]
  },
  {
   "cell_type": "code",
   "execution_count": 35,
   "id": "06e192ce",
   "metadata": {},
   "outputs": [
    {
     "name": "stdout",
     "output_type": "stream",
     "text": [
      "RMSE on training data: 2.2715\n",
      "RMSE on testing data: 0.6246\n"
     ]
    }
   ],
   "source": [
    "# Create DMatrix for XGBoost\n",
    "X_train_xgboost = X_train.copy()\n",
    "X_train_xgboost[O_train == 0] = np.nan  # Replace missing entries with NaN for the imputer\n",
    "dtrain = xgb.DMatrix(X_train_xgboost, label=Y_train)\n",
    "dtest = xgb.DMatrix(X_test, label=Y_test)\n",
    "\n",
    "# Define training parameters\n",
    "params = {\n",
    "    'nthread': 8,\n",
    "    'objective': 'reg:squarederror', \n",
    "    'eval_metric': 'rmse', \n",
    "    'seed': 42\n",
    "}\n",
    "\n",
    "# Train the model\n",
    "model = xgb.train(params, dtrain, num_boost_round=10)\n",
    "\n",
    "# Predict on training data\n",
    "y_pred_train = model.predict(dtrain)\n",
    "# Predict on testing data\n",
    "y_pred_test = model.predict(dtest)\n",
    "\n",
    "# Compute RMSE for training and testing\n",
    "rmse_train = np.sqrt(mean_squared_error(Y_train, y_pred_train))\n",
    "rmse_test = np.sqrt(mean_squared_error(Y_test, y_pred_test))\n",
    "\n",
    "print(f\"RMSE on training data: {rmse_train:.4f}\")\n",
    "print(f\"RMSE on testing data: {rmse_test:.4f}\")"
   ]
  },
  {
   "cell_type": "code",
   "execution_count": 38,
   "id": "2a7e49a1-3cd7-44cd-b6b1-6e8812ac2a62",
   "metadata": {},
   "outputs": [
    {
     "data": {
      "text/plain": [
       "array([[       nan, 0.06627816, 0.99662603, 0.60653947,        nan],\n",
       "       [       nan,        nan, 0.69243087,        nan,        nan],\n",
       "       [       nan,        nan, 0.74866528, 0.90607811, 0.28563633],\n",
       "       [       nan,        nan, 0.6231419 , 0.87476162, 1.30308945],\n",
       "       [       nan, 0.07084661, 0.23645358,        nan, 0.24931604],\n",
       "       [       nan, 0.09499526,        nan, 1.89229384, 0.43933471],\n",
       "       [0.70557415,        nan,        nan, 0.68849679,        nan],\n",
       "       [0.92041786, 0.47463807,        nan,        nan,        nan],\n",
       "       [0.08662132, 0.11125254,        nan, 0.73146454,        nan],\n",
       "       [0.1870967 ,        nan, 0.20229006, 1.46128676, 0.92895911]])"
      ]
     },
     "execution_count": 38,
     "metadata": {},
     "output_type": "execute_result"
    }
   ],
   "source": [
    "X_train_xgboost[:10]"
   ]
  },
  {
   "cell_type": "code",
   "execution_count": null,
   "id": "bfdfd833-d366-4f31-bb21-eeaf600cf0a0",
   "metadata": {},
   "outputs": [],
   "source": []
  }
 ],
 "metadata": {
  "kernelspec": {
   "display_name": "Python 3",
   "language": "python",
   "name": "python3"
  },
  "language_info": {
   "codemirror_mode": {
    "name": "ipython",
    "version": 3
   },
   "file_extension": ".py",
   "mimetype": "text/x-python",
   "name": "python",
   "nbconvert_exporter": "python",
   "pygments_lexer": "ipython3",
   "version": "3.8.8"
  }
 },
 "nbformat": 4,
 "nbformat_minor": 5
}
